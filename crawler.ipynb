{
 "cells": [
  {
   "cell_type": "markdown",
   "id": "d4aa2322-889a-466b-ae4d-8a50f60ed2f0",
   "metadata": {},
   "source": [
    "# Cell 1: Imports & configuration"
   ]
  },
  {
   "cell_type": "code",
   "execution_count": 1,
   "id": "883d22bc-3c9d-4301-b995-51889c33d62a",
   "metadata": {},
   "outputs": [],
   "source": [
    "import os, json, time, requests, pandas as pd\n",
    "from tqdm.notebook import tqdm\n",
    "from IPython.display import clear_output\n",
    "\n",
    "# — User config —\"\n",
    "OUTPUT_CSV       = \"top-1m.csv\"\n",
    "TRNCO_URL        = \"https://tranco-list.eu/download_daily/KJNQW\"\n",
    "STATE_FILES      = {\"tos\": \"state_tos.json\", \"pp\": \"state_pp.json\"}\n",
    "TOS_ENDPOINT=\"http://localhost:8080/api/v1/crawl-tos\"\n",
    "PP_ENDPOINT=\"http://localhost:8080/api/v1/crawl-pp\"\n",
    "HEALTH_URL       = \"http://localhost:8080/api/test\"\n",
    "API_KEY          = os.getenv(\"X_API_KEY\")\n",
    "TARGET_SUCCESSES = 12500\n",
    "DELAY            = 0.1"
   ]
  },
  {
   "cell_type": "markdown",
   "id": "55f483ea-1766-4441-a673-ecf2f95e4c3d",
   "metadata": {},
   "source": [
    "# Cell 2: Download, unzip, load & peek top-5, then write top-1m.csv"
   ]
  },
  {
   "cell_type": "code",
   "execution_count": 2,
   "id": "83763e0c-d85a-4bb2-8077-b72c148cd932",
   "metadata": {},
   "outputs": [
    {
     "name": "stdout",
     "output_type": "stream",
     "text": [
      "top-1m.csv already exists; loading it.\n",
      "\n",
      "First 5 entries:\n",
      " Rank           Domain\n",
      "    1       google.com\n",
      "    2    microsoft.com\n",
      "    3          mail.ru\n",
      "    4     facebook.com\n",
      "    5 root-servers.net\n"
     ]
    }
   ],
   "source": [
    "# Cell 2: Download & prepare Tranco list into OUTPUT_CSV, skip if exists\n",
    "if os.path.exists(OUTPUT_CSV):\n",
    "    print(f\"{OUTPUT_CSV} already exists; loading it.\")\n",
    "    df = pd.read_csv(\n",
    "        OUTPUT_CSV,\n",
    "        dtype={\"Rank\": int, \"Domain\": str},\n",
    "        low_memory=False\n",
    "    )\n",
    "else:\n",
    "    print(\"Downloading Tranco list…\")\n",
    "    resp = requests.get(TRNCO_URL)\n",
    "    resp.raise_for_status()\n",
    "    data = resp.content\n",
    "\n",
    "    # try to unzip first CSV, else treat as raw CSV\n",
    "    try:\n",
    "        import zipfile, io\n",
    "        with zipfile.ZipFile(io.BytesIO(data)) as z:\n",
    "            csv_name = next(n for n in z.namelist() if n.lower().endswith(\".csv\"))\n",
    "            with z.open(csv_name) as src:\n",
    "                df = pd.read_csv(\n",
    "                    src,\n",
    "                    header=None,\n",
    "                    names=[\"Rank\", \"Domain\"],\n",
    "                    usecols=[0, 1],\n",
    "                    dtype={\"Rank\": int, \"Domain\": str},\n",
    "                    low_memory=False\n",
    "                )\n",
    "    except zipfile.BadZipFile:\n",
    "        from io import BytesIO\n",
    "        df = pd.read_csv(\n",
    "            BytesIO(data),\n",
    "            header=None,\n",
    "            names=[\"Rank\", \"Domain\"],\n",
    "            usecols=[0, 1],\n",
    "            dtype={\"Rank\": int, \"Domain\": str},\n",
    "            low_memory=False\n",
    "        )\n",
    "\n",
    "    # sort and persist\n",
    "    df = df.sort_values(\"Rank\").reset_index(drop=True)\n",
    "    df.to_csv(OUTPUT_CSV, index=False)\n",
    "    print(f\"Saved {len(df):,} rows to {OUTPUT_CSV}\")\n",
    "\n",
    "# peek at top-5\n",
    "print(\"\\nFirst 5 entries:\")\n",
    "print(df.head(5).to_string(index=False))"
   ]
  },
  {
   "cell_type": "markdown",
   "id": "92e9fceb-f566-4c2b-8d01-6861b4fc5ecf",
   "metadata": {},
   "source": [
    "# Cell 3: Health check your service"
   ]
  },
  {
   "cell_type": "code",
   "execution_count": 3,
   "id": "1ce47fc4-eb0a-4fe0-90ff-31555b23bab2",
   "metadata": {},
   "outputs": [
    {
     "name": "stdout",
     "output_type": "stream",
     "text": [
      "Checking service at http://localhost:8080/api/test …\n",
      "✅ Service is up: ok\n"
     ]
    }
   ],
   "source": [
    "# Cell 3: Health check your backend\n",
    "print(\"Checking service at\", HEALTH_URL, \"…\")\n",
    "try:\n",
    "    r = requests.get(HEALTH_URL)\n",
    "    r.raise_for_status()\n",
    "    status = r.json().get(\"status\", \"no status field\")\n",
    "    print(\"✅ Service is up:\", status)\n",
    "except Exception as e:\n",
    "    raise RuntimeError(\"❌ Health check failed:\", e)"
   ]
  },
  {
   "cell_type": "markdown",
   "id": "b99ad4ac-5fe3-432a-b93d-1a88b3609607",
   "metadata": {},
   "source": [
    "# Cell 4: Define the crawl function (shows both TOS & PP progress)"
   ]
  },
  {
   "cell_type": "code",
   "execution_count": 4,
   "id": "a4934af4-f6fc-45e7-916d-e6ddda717805",
   "metadata": {},
   "outputs": [],
   "source": [
    "from concurrent.futures import ThreadPoolExecutor, as_completed\n",
    "from IPython.display import clear_output\n",
    "\n",
    "def crawl_stage(df, stage_name, endpoint):\n",
    "    \"\"\"\n",
    "    Crawl using up to 10 concurrent requests for the given stage.\n",
    "    \"\"\"\n",
    "    state_file     = STATE_FILES[stage_name]\n",
    "    opposite_stage = \"pp\" if stage_name == \"tos\" else \"tos\"\n",
    "    opp_file       = STATE_FILES[opposite_stage]\n",
    "\n",
    "    if os.path.exists(state_file):\n",
    "        state = json.load(open(state_file))\n",
    "    else:\n",
    "        state = {\"last_rank\": 0, \"success\": 0, \"fail\": 0}\n",
    "    last_rank, succ, fail = state[\"last_rank\"], state[\"success\"], state[\"fail\"]\n",
    "\n",
    "    if os.path.exists(opp_file):\n",
    "        opp = json.load(open(opp_file))\n",
    "        opp_last = opp.get(\"last_rank\", 0)\n",
    "        opp_succ = opp.get(\"success\", 0)\n",
    "        opp_fail = opp.get(\"fail\", 0)\n",
    "    else:\n",
    "        opp_last = opp_succ = opp_fail = 0\n",
    "\n",
    "    def post_url(domain, rank):\n",
    "        try:\n",
    "            resp = requests.post(\n",
    "                endpoint,\n",
    "                json={\"url\": domain},\n",
    "                headers={\"X-API-Key\": API_KEY}\n",
    "            )\n",
    "            resp.raise_for_status()\n",
    "            ok = resp.json().get(\"success\", False)\n",
    "        except:\n",
    "            ok = False\n",
    "        return (rank, domain, ok)\n",
    "\n",
    "    with ThreadPoolExecutor(max_workers=10) as executor:\n",
    "        futures = []\n",
    "        for row in df.itertuples(index=False):\n",
    "            rank, domain = row.Rank, row.Domain\n",
    "            if rank <= last_rank or succ >= TARGET_SUCCESSES:\n",
    "                continue\n",
    "\n",
    "            futures.append(executor.submit(post_url, domain, rank))\n",
    "\n",
    "            if len(futures) >= 10:\n",
    "                for f in as_completed(futures):\n",
    "                    r, d, ok = f.result()\n",
    "                    if ok:\n",
    "                        succ += 1\n",
    "                    else:\n",
    "                        fail += 1\n",
    "                    last_rank = r\n",
    "\n",
    "                    with open(state_file, \"w\") as f:\n",
    "                        json.dump({\"last_rank\": last_rank, \"success\": succ, \"fail\": fail}, f)\n",
    "\n",
    "                    clear_output(wait=True)\n",
    "                    if stage_name == \"pp\":\n",
    "                        print(f\"[ToS] Rank {opp_last}: {opp_succ}✅, {opp_fail}❌ ({opp_succ / max(1, opp_succ + opp_fail) * 100:.2f}%)\")\n",
    "                        print(f\"[PP]  Rank {last_rank}: {succ}✅, {fail}❌ ({succ / max(1, succ + fail) * 100:.2f}%) *\")\n",
    "                    else:\n",
    "                        print(f\"[PP]  Rank {opp_last}: {opp_succ}✅, {opp_fail}❌ ({opp_succ / max(1, opp_succ + opp_fail) * 100:.2f}%)\")\n",
    "                        print(f\"[ToS] Rank {last_rank}: {succ}✅, {fail}❌ ({succ / max(1, succ + fail) * 100:.2f}%) *\")\n",
    "\n",
    "                    time.sleep(DELAY)\n",
    "                futures = []\n",
    "\n",
    "        for f in as_completed(futures):\n",
    "            r, d, ok = f.result()\n",
    "            if ok:\n",
    "                succ += 1\n",
    "            else:\n",
    "                fail += 1\n",
    "            last_rank = r\n",
    "\n",
    "            with open(state_file, \"w\") as f:\n",
    "                json.dump({\"last_rank\": last_rank, \"success\": succ, \"fail\": fail}, f)\n",
    "\n",
    "            clear_output(wait=True)\n",
    "            if stage_name == \"pp\":\n",
    "                print(f\"[ToS] Rank {opp_last}: {opp_succ}✅, {opp_fail}❌ ({opp_succ / max(1, opp_succ + opp_fail) * 100:.2f}%)\")\n",
    "                print(f\"[PP]  Rank {last_rank}: {succ}✅, {fail}❌ ({succ / max(1, succ + fail) * 100:.2f}%) *\")\n",
    "            else:\n",
    "                print(f\"[PP]  Rank {opp_last}: {opp_succ}✅, {opp_fail}❌ ({opp_succ / max(1, opp_succ + opp_fail) * 100:.2f}%)\")\n",
    "                print(f\"[ToS] Rank {last_rank}: {succ}✅, {fail}❌ ({succ / max(1, succ + fail) * 100:.2f}%) *\")\n",
    "            time.sleep(DELAY)"
   ]
  },
  {
   "cell_type": "markdown",
   "id": "93c9a0c0-b1ef-464e-9559-388872ba217b",
   "metadata": {},
   "source": [
    "# Cell 5: Controlled runner (set mode below)"
   ]
  },
  {
   "cell_type": "code",
   "execution_count": null,
   "id": "e3055050-b955-4b62-9ba4-e0becf918d07",
   "metadata": {},
   "outputs": [
    {
     "name": "stdout",
     "output_type": "stream",
     "text": [
      "[PP]  Rank 25194: 6250✅, 18944❌ (24.81%)\n",
      "[ToS] Rank 39934: 10813✅, 31119❌ (25.79%) *\n"
     ]
    }
   ],
   "source": [
    "mode = \"both\"  # set to \"tos\", \"pp\", or \"both\"\n",
    "\n",
    "# Helper to read state\n",
    "def read_state(stage):\n",
    "    if os.path.exists(STATE_FILES[stage]):\n",
    "        return json.load(open(STATE_FILES[stage]))\n",
    "    return {\"success\": 0, \"fail\": 0, \"last_rank\": 0}\n",
    "\n",
    "# Execute based on mode\n",
    "if mode == \"tos\":\n",
    "    crawl_stage(df, \"tos\", TOS_ENDPOINT)          \n",
    "\n",
    "elif mode == \"pp\":\n",
    "    crawl_stage(df, \"pp\", PP_ENDPOINT)\n",
    "\n",
    "elif mode == \"both\":\n",
    "    crawl_stage(df, \"tos\", TOS_ENDPOINT)\n",
    "    tos_state = read_state(\"tos\")\n",
    "    if tos_state.get(\"success\", 0) < TARGET_SUCCESSES:\n",
    "        print(f\"\\n⏩ Skipping PP crawl: only {tos_state['success']} ToS successes (target {TARGET_SUCCESSES}).\")\n",
    "    else:\n",
    "        crawl_stage(df, \"pp\", PP_ENDPOINT)\n",
    "\n",
    "else:\n",
    "    raise ValueError(\"❌ Invalid mode! Use 'tos', 'pp', or 'both'.\")"
   ]
  },
  {
   "cell_type": "code",
   "execution_count": null,
   "id": "80c6cedc-9a8c-4c7f-b398-70e2381d7889",
   "metadata": {},
   "outputs": [],
   "source": []
  }
 ],
 "metadata": {
  "kernelspec": {
   "display_name": "Python 3 (ipykernel)",
   "language": "python",
   "name": "python3"
  },
  "language_info": {
   "codemirror_mode": {
    "name": "ipython",
    "version": 3
   },
   "file_extension": ".py",
   "mimetype": "text/x-python",
   "name": "python",
   "nbconvert_exporter": "python",
   "pygments_lexer": "ipython3",
   "version": "3.12.9"
  }
 },
 "nbformat": 4,
 "nbformat_minor": 5
}
