{
 "cells": [
  {
   "cell_type": "markdown",
   "id": "5633ef05-4b9d-47aa-b60e-9875e23b89d3",
   "metadata": {},
   "source": [
    "# Cell 1: Imports & basic config"
   ]
  },
  {
   "cell_type": "code",
   "execution_count": 1,
   "id": "bd6daa0c-3a90-4532-9bda-56c51670860d",
   "metadata": {},
   "outputs": [],
   "source": [
    "import os\n",
    "import json\n",
    "import time\n",
    "import requests\n",
    "import pandas as pd\n",
    "from tqdm import tqdm\n",
    "from dotenv import load_dotenv\n",
    "\n",
    "# Filenames\n",
    "STATE_FILE = \"crawl_state.json\"\n",
    "CSV_FILE   = \"majestic_million.csv\"\n",
    "CSV_URL    = \"https://downloads.majestic.com/majestic_million.csv\""
   ]
  },
  {
   "cell_type": "markdown",
   "id": "f351cfb4-338f-4bff-b004-deb8e6a7e479",
   "metadata": {},
   "source": [
    "# Cell 2: Load environment variables"
   ]
  },
  {
   "cell_type": "code",
   "execution_count": 2,
   "id": "fa131e68-5ddb-4ff1-a814-0502a6996998",
   "metadata": {},
   "outputs": [],
   "source": [
    "load_dotenv(\".env\")\n",
    "\n",
    "API_KEY      = os.getenv(\"X_API_KEY\")\n",
    "TOS_ENDPOINT = os.getenv(\"TOS_ENDPOINT\")\n",
    "PP_ENDPOINT  = os.getenv(\"PP_ENDPOINT\")\n",
    "\n",
    "BATCH_SIZE  = int(os.getenv(\"BATCH_SIZE\", 100))\n",
    "TIMEOUT     = int(os.getenv(\"TIMEOUT\", 10))\n",
    "DELAY       = float(os.getenv(\"DELAY_BETWEEN_REQUESTS\", 1))\n",
    "MAX_RETRIES = int(os.getenv(\"MAX_RETRIES\", 3))"
   ]
  },
  {
   "cell_type": "markdown",
   "id": "d2f17897-9a36-4524-8c9e-cd3f0e25058a",
   "metadata": {},
   "source": [
    "# Cell 3: Download Majestic CSV if missing, then load only Rank+Domain"
   ]
  },
  {
   "cell_type": "code",
   "execution_count": 3,
   "id": "2f423a1a-c840-4fa4-b857-64d04236b8a1",
   "metadata": {},
   "outputs": [
    {
     "name": "stdout",
     "output_type": "stream",
     "text": [
      "CSV already exists; skipping download.\n",
      "Loaded 1,000,000 domains.  First few:\n",
      "    GlobalRank         Domain\n",
      "0           1     google.com\n",
      "1           2   facebook.com\n",
      "2           3    youtube.com\n",
      "3           4    twitter.com\n",
      "4           5  instagram.com\n"
     ]
    }
   ],
   "source": [
    "# Cell 3: Download Majestic CSV if missing, then load GlobalRank & Domain from header\n",
    "if not os.path.exists(CSV_FILE):\n",
    "    print(\"Downloading Majestic Million list…\")\n",
    "    resp = requests.get(CSV_URL, stream=True, timeout=TIMEOUT)\n",
    "    resp.raise_for_status()\n",
    "    with open(CSV_FILE, \"wb\") as f:\n",
    "        for chunk in resp.iter_content(chunk_size=1024):\n",
    "            f.write(chunk)\n",
    "else:\n",
    "    print(\"CSV already exists; skipping download.\")\n",
    "\n",
    "# Now read the real header row and pull exactly GlobalRank + Domain\n",
    "df = pd.read_csv(\n",
    "    CSV_FILE,\n",
    "    usecols=[\"GlobalRank\", \"Domain\"],\n",
    "    dtype={\"GlobalRank\": int, \"Domain\": str},\n",
    "    low_memory=False\n",
    ")\n",
    "\n",
    "# Make sure it’s sorted\n",
    "df = df.sort_values(\"GlobalRank\").reset_index(drop=True)\n",
    "\n",
    "print(f\"Loaded {len(df):,} domains.  First few:\\n\", df.head())"
   ]
  },
  {
   "cell_type": "markdown",
   "id": "e7830f8b-d6bd-47d2-86d2-5a9092e3df91",
   "metadata": {},
   "source": [
    "# Cell 4: Initialize or resume state"
   ]
  },
  {
   "cell_type": "code",
   "execution_count": 4,
   "id": "e3041af7-a7bc-495f-ad8b-b6768e4ce365",
   "metadata": {},
   "outputs": [
    {
     "name": "stdout",
     "output_type": "stream",
     "text": [
      "Starting fresh run from rank 1.\n"
     ]
    }
   ],
   "source": [
    "# Cell 4: Init or resume state by GlobalRank\n",
    "if os.path.exists(STATE_FILE):\n",
    "    state = json.load(open(STATE_FILE))\n",
    "    print(f\"Resuming from GlobalRank > {state.get('last_rank', 0)}\")\n",
    "else:\n",
    "    state = {\"last_rank\": 0, \"success_count\": 0, \"fail_count\": 0}\n",
    "    print(\"Starting fresh run from rank 1.\")"
   ]
  },
  {
   "cell_type": "markdown",
   "id": "000f9a1e-b8d3-4d61-aebd-cf6d926be139",
   "metadata": {},
   "source": [
    "# Cell 5: Choose which endpoint to crawlm"
   ]
  },
  {
   "cell_type": "code",
   "execution_count": 5,
   "id": "40c51ec9-4b9c-4b1a-a1b0-4882a48b611d",
   "metadata": {},
   "outputs": [
    {
     "name": "stdin",
     "output_type": "stream",
     "text": [
      "Enter 1 to crawl TOS or 2 to crawl Privacy Policy:  1\n"
     ]
    },
    {
     "name": "stdout",
     "output_type": "stream",
     "text": [
      "Crawling TOS via http://localhost:8080/api/v1/crawl-tos\n"
     ]
    }
   ],
   "source": [
    "choice = input(\"Enter 1 to crawl TOS or 2 to crawl Privacy Policy: \").strip()\n",
    "if choice == \"1\":\n",
    "    endpoint = TOS_ENDPOINT\n",
    "    label = \"TOS\"\n",
    "elif choice == \"2\":\n",
    "    endpoint = PP_ENDPOINT\n",
    "    label = \"Privacy Policy\"\n",
    "else:\n",
    "    raise SystemExit(\"Invalid choice – restart and enter 1 or 2.\")\n",
    "\n",
    "print(f\"Crawling {label} via {endpoint}\")"
   ]
  },
  {
   "cell_type": "markdown",
   "id": "1b96b43a-cf3b-43aa-82e9-4ed16d8ac82b",
   "metadata": {},
   "source": [
    "# Cell 6: Health check – ensure your backend is up before crawling"
   ]
  },
  {
   "cell_type": "code",
   "execution_count": 6,
   "id": "a2bcca1b-7516-4f16-bf82-2e1af6999951",
   "metadata": {},
   "outputs": [
    {
     "name": "stdout",
     "output_type": "stream",
     "text": [
      "✅ Service is up: Server is running\n"
     ]
    }
   ],
   "source": [
    "import os\n",
    "import requests\n",
    "from dotenv import load_dotenv\n",
    "\n",
    "# (Re)load your .env so TIMEOUT is defined here\n",
    "load_dotenv(\"sample.env\")\n",
    "TIMEOUT = int(os.getenv(\"TIMEOUT\", 10))\n",
    "\n",
    "health_url = \"http://localhost:8080/api/test\"\n",
    "headers = {\"accept\": \"application/json\"}\n",
    "\n",
    "try:\n",
    "    resp = requests.get(health_url, headers=headers, timeout=TIMEOUT)\n",
    "    resp.raise_for_status()\n",
    "    data = resp.json()\n",
    "    if data.get(\"status\") == \"ok\":\n",
    "        print(f\"✅ Service is up: {data.get('message')}\")\n",
    "    else:\n",
    "        raise ValueError(f\"Unexpected response body: {data}\")\n",
    "except Exception as e:\n",
    "    raise SystemExit(f\"❌ Health check failed for {health_url}: {e}\")"
   ]
  },
  {
   "cell_type": "markdown",
   "id": "32d9b6cf-e3fc-47ad-b28c-c866528f609a",
   "metadata": {},
   "source": [
    "# Cell 7: Crawl loop with live counters and progress display"
   ]
  },
  {
   "cell_type": "code",
   "execution_count": 7,
   "id": "5b1c08d2-68dc-4c3c-b66b-689dcf65b8c7",
   "metadata": {},
   "outputs": [
    {
     "name": "stdout",
     "output_type": "stream",
     "text": [
      "Final summary:\n",
      "Stopped at GlobalRank 16: 10 ✅, 6 ❌ (62.50% success)\n",
      "\n",
      "Last 10 log lines:\n",
      "[✔] Rank=7, Domain=microsoft.com, HTTP=200, success=True\n",
      "[✔] Rank=8, Domain=apple.com, HTTP=200, success=True\n",
      "[✘] Rank=9, Domain=googletagmanager.com, HTTP=200, success=False\n",
      "[✔] Rank=10, Domain=wikipedia.org, HTTP=200, success=True\n",
      "[✘] Rank=11, Domain=github.com, HTTP=200, success=False\n",
      "[✔] Rank=12, Domain=wordpress.org, HTTP=200, success=True\n",
      "[✘] Rank=13, Domain=youtu.be, HTTP=200, success=False\n",
      "[✔] Rank=14, Domain=en.wikipedia.org, HTTP=200, success=True\n",
      "[✘] Rank=15, Domain=play.google.com, HTTP=200, success=False\n",
      "[✔] Rank=16, Domain=pinterest.com, HTTP=200, success=True\n"
     ]
    }
   ],
   "source": [
    "import json\n",
    "import requests\n",
    "import time\n",
    "from collections import deque\n",
    "from tqdm.notebook import tqdm\n",
    "from IPython.display import clear_output, display\n",
    "\n",
    "# Load or init state\n",
    "if os.path.exists(STATE_FILE):\n",
    "    state = json.load(open(STATE_FILE))\n",
    "else:\n",
    "    state = {\"last_rank\": 0, \"success_count\": 0, \"fail_count\": 0}\n",
    "\n",
    "last_rank = state[\"last_rank\"]\n",
    "success   = state[\"success_count\"]\n",
    "fail      = state[\"fail_count\"]\n",
    "\n",
    "# Always show the current summary at the very top\n",
    "print(\n",
    "    f\"\\nStopped at GlobalRank {last_rank}: \"\n",
    "    f\"{success} ✅, {fail} ❌ \"\n",
    "    f\"({success/(success+fail)*100 if (success+fail) else 0:.2f}% success)\\n\"\n",
    ")\n",
    "\n",
    "# ▶ Pick how many successes to stop after\n",
    "opts   = [\"10\", \"100\", \"1000\", \"10000\", \"100000\", \"max\"]\n",
    "choice = input(f\"Stop after how many successes {opts} [default 'max']: \").strip() or \"max\"\n",
    "if choice not in opts:\n",
    "    choice = \"max\"\n",
    "target = float(\"inf\") if choice == \"max\" else int(choice)\n",
    "\n",
    "print(f\"▶ Resuming from GlobalRank > {last_rank}, stopping after {target} successes.\\n\")\n",
    "\n",
    "# Filter remaining domains\n",
    "rem = df[df[\"GlobalRank\"] > last_rank].sort_values(\"GlobalRank\")\n",
    "print(f\"→ {len(rem):,} domains remaining to crawl.\\n\")\n",
    "\n",
    "# Prepare progress bar and log buffer\n",
    "pbar = tqdm(total=len(rem), desc=\"crawl-POST\", unit=\"domain\")\n",
    "last_logs = deque(maxlen=10)\n",
    "\n",
    "for _, row in rem.iterrows():\n",
    "    if success >= target:\n",
    "        break\n",
    "\n",
    "    rank   = int(row[\"GlobalRank\"])\n",
    "    domain = row[\"Domain\"]\n",
    "    ok     = False\n",
    "    status = None\n",
    "    data   = {}\n",
    "\n",
    "    # Single POST\n",
    "    try:\n",
    "        resp = requests.post(\n",
    "            endpoint,\n",
    "            json={\"url\": domain},\n",
    "            headers={\"X-API-KEY\": API_KEY, \"Content-Type\": \"application/json\"}\n",
    "        )\n",
    "        status = resp.status_code\n",
    "        resp.raise_for_status()\n",
    "        data = resp.json()\n",
    "        if data.get(\"success\") is True:\n",
    "            ok = True\n",
    "    except Exception as e:\n",
    "        status = getattr(e, \"response\", None) and e.response.status_code or str(e)\n",
    "\n",
    "    # Record this log line\n",
    "    log_line = f\"[{'✔' if ok else '✘'}] Rank={rank}, Domain={domain}, HTTP={status}, success={data.get('success')}\"\n",
    "    last_logs.append(log_line)\n",
    "\n",
    "    # Update counters\n",
    "    if ok:\n",
    "        success += 1\n",
    "    else:\n",
    "        fail += 1\n",
    "\n",
    "    # Persist state\n",
    "    last_rank = rank\n",
    "    state.update({\n",
    "        \"last_rank\":     last_rank,\n",
    "        \"success_count\": success,\n",
    "        \"fail_count\":    fail\n",
    "    })\n",
    "    with open(STATE_FILE, \"w\") as f:\n",
    "        json.dump(state, f, indent=2)\n",
    "\n",
    "    # Update progress bar\n",
    "    pbar.update(1)\n",
    "    pct = success / (success + fail) * 100 if (success + fail) else 0\n",
    "    pbar.set_postfix({\"✔\": success, \"✘\": fail, \"rate\": f\"{pct:.1f}%\"} )\n",
    "\n",
    "    # Live display: clear and show only the last 10 logs + progress bar\n",
    "    clear_output(wait=True)\n",
    "    # Reprint summary at top\n",
    "    print(\n",
    "        f\"\\nStopped at GlobalRank {last_rank}: \"\n",
    "        f\"{success} ✅, {fail} ❌ \"\n",
    "        f\"({success/(success+fail)*100:.2f}% success)\\n\"\n",
    "    )\n",
    "    for line in last_logs:\n",
    "        print(line)\n",
    "    display(pbar)\n",
    "\n",
    "    time.sleep(DELAY)\n",
    "\n",
    "pbar.close()\n",
    "\n",
    "# Final summary (again)\n",
    "clear_output(wait=False)\n",
    "print(\"Final summary:\")\n",
    "print(\n",
    "    f\"Stopped at GlobalRank {last_rank}: \"\n",
    "    f\"{success} ✅, {fail} ❌ \"\n",
    "    f\"({success/(success+fail)*100:.2f}% success)\\n\"\n",
    ")\n",
    "print(\"Last 10 log lines:\")\n",
    "for line in last_logs:\n",
    "    print(line)"
   ]
  }
 ],
 "metadata": {
  "kernelspec": {
   "display_name": "Python 3 (ipykernel)",
   "language": "python",
   "name": "python3"
  },
  "language_info": {
   "codemirror_mode": {
    "name": "ipython",
    "version": 3
   },
   "file_extension": ".py",
   "mimetype": "text/x-python",
   "name": "python",
   "nbconvert_exporter": "python",
   "pygments_lexer": "ipython3",
   "version": "3.12.9"
  }
 },
 "nbformat": 4,
 "nbformat_minor": 5
}
